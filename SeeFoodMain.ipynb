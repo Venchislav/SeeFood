{
 "cells": [
  {
   "cell_type": "code",
   "execution_count": 362,
   "id": "initial_id",
   "metadata": {
    "collapsed": true,
    "ExecuteTime": {
     "end_time": "2023-11-29T19:31:19.763527400Z",
     "start_time": "2023-11-29T19:31:19.731512400Z"
    }
   },
   "outputs": [],
   "source": [
    "import numpy as np\n",
    "import tensorflow as tf\n",
    "from tensorflow import keras\n",
    "from tensorflow.keras.models import Sequential\n",
    "from tensorflow.keras.layers import Activation, Dense, Flatten, BatchNormalization, Conv2D, MaxPool2D, Dropout\n",
    "from tensorflow.keras.optimizers import Adam\n",
    "from tensorflow.keras.metrics import categorical_crossentropy\n",
    "import cv2\n",
    "from sklearn.metrics import confusion_matrix\n",
    "import itertools\n",
    "import os\n",
    "import shutil\n",
    "import random\n",
    "import glob\n",
    "import matplotlib.pyplot as plt\n",
    "import warnings\n",
    "warnings.filterwarnings('ignore')"
   ]
  },
  {
   "cell_type": "code",
   "execution_count": 363,
   "outputs": [],
   "source": [
    "img_width, img_height = 76, 76\n",
    "input_shape = (img_width, img_height, 1)\n",
    "batch_size = 10\n",
    "no_epochs = 25\n",
    "no_classes = 2\n",
    "validation_split = 0.2\n",
    "verbosity = 1"
   ],
   "metadata": {
    "collapsed": false,
    "ExecuteTime": {
     "end_time": "2023-11-29T19:31:19.789461500Z",
     "start_time": "2023-11-29T19:31:19.741309400Z"
    }
   },
   "id": "534a395b1f119152"
  },
  {
   "cell_type": "code",
   "execution_count": 364,
   "outputs": [],
   "source": [
    "instances = []\n",
    "classes = []\n",
    "for filepath in os.listdir(f'train/ht'):\n",
    "    resized_image = cv2.imread(f'train/ht/{format(filepath)}', 0)\n",
    "    resized_image = cv2.resize(resized_image, (img_width, img_height))\n",
    "    instances.append(resized_image)\n",
    "    classes.append(1)"
   ],
   "metadata": {
    "collapsed": false,
    "ExecuteTime": {
     "end_time": "2023-11-29T19:31:19.993194700Z",
     "start_time": "2023-11-29T19:31:19.745575400Z"
    }
   },
   "id": "9fe9391a474ad81f"
  },
  {
   "cell_type": "code",
   "execution_count": 365,
   "outputs": [],
   "source": [
    "for filepath in os.listdir(f'train/nht'):\n",
    "    resized_image = cv2.imread(f'train/nht/{format(filepath)}', 0)\n",
    "    resized_image = cv2.resize(resized_image, (img_width, img_height))\n",
    "    instances.append(resized_image)\n",
    "    classes.append(0)"
   ],
   "metadata": {
    "collapsed": false,
    "ExecuteTime": {
     "end_time": "2023-11-29T19:31:20.223906400Z",
     "start_time": "2023-11-29T19:31:19.994192300Z"
    }
   },
   "id": "7f1015c33570aeae"
  },
  {
   "cell_type": "code",
   "execution_count": 366,
   "outputs": [],
   "source": [
    "v_instances = []\n",
    "v_classes = []\n",
    "\n",
    "for filepath in os.listdir(f'valid/nht'):\n",
    "    resized_image = cv2.imread(f'valid/nht/{format(filepath)}', 0)\n",
    "    resized_image = cv2.resize(resized_image, (img_width, img_height))\n",
    "    v_instances.append(resized_image)\n",
    "    v_classes.append(0)"
   ],
   "metadata": {
    "collapsed": false,
    "ExecuteTime": {
     "end_time": "2023-11-29T19:31:20.284427100Z",
     "start_time": "2023-11-29T19:31:20.225901300Z"
    }
   },
   "id": "8625a7e8846dd0ef"
  },
  {
   "cell_type": "code",
   "execution_count": 367,
   "outputs": [],
   "source": [
    "for filepath in os.listdir(f'valid/ht'):\n",
    "    resized_image = cv2.imread(f'valid/ht/{format(filepath)}', 0)\n",
    "    resized_image = cv2.resize(resized_image, (img_width, img_height))\n",
    "    v_instances.append(resized_image)\n",
    "    v_classes.append(1)"
   ],
   "metadata": {
    "collapsed": false,
    "ExecuteTime": {
     "end_time": "2023-11-29T19:31:20.397724Z",
     "start_time": "2023-11-29T19:31:20.283429600Z"
    }
   },
   "id": "2a4fac630ab2bc7c"
  },
  {
   "cell_type": "code",
   "execution_count": 368,
   "outputs": [
    {
     "data": {
      "text/plain": "[0,\n 0,\n 0,\n 0,\n 0,\n 0,\n 0,\n 0,\n 0,\n 0,\n 0,\n 0,\n 0,\n 0,\n 0,\n 0,\n 0,\n 0,\n 0,\n 0,\n 0,\n 0,\n 0,\n 0,\n 0,\n 0,\n 0,\n 0,\n 0,\n 0,\n 0,\n 0,\n 0,\n 0,\n 0,\n 0,\n 0,\n 0,\n 0,\n 0,\n 0,\n 0,\n 0,\n 0,\n 0,\n 0,\n 0,\n 0,\n 0,\n 0,\n 0,\n 0,\n 0,\n 0,\n 1,\n 1,\n 1,\n 1,\n 1,\n 1,\n 1,\n 1,\n 1,\n 1,\n 1,\n 1,\n 1,\n 1,\n 1,\n 1,\n 1,\n 1,\n 1,\n 1,\n 1,\n 1,\n 1,\n 1,\n 1,\n 1,\n 1,\n 1,\n 1,\n 1,\n 1,\n 1,\n 1,\n 1,\n 1,\n 1,\n 1,\n 1,\n 1,\n 1,\n 1,\n 1,\n 1,\n 1,\n 1,\n 1,\n 1,\n 1,\n 1,\n 1,\n 1,\n 1,\n 1,\n 1,\n 1,\n 1,\n 1,\n 1,\n 1,\n 1,\n 1,\n 1,\n 1,\n 1,\n 1,\n 1,\n 1,\n 1,\n 1,\n 1,\n 1,\n 1,\n 1,\n 1,\n 1,\n 1,\n 1,\n 1,\n 1,\n 1,\n 1,\n 1,\n 1,\n 1,\n 1,\n 1,\n 1,\n 1,\n 1,\n 1,\n 1,\n 1,\n 1,\n 1,\n 1,\n 1,\n 1,\n 1,\n 1,\n 1,\n 1,\n 1,\n 1]"
     },
     "execution_count": 368,
     "metadata": {},
     "output_type": "execute_result"
    }
   ],
   "source": [
    "v_classes"
   ],
   "metadata": {
    "collapsed": false,
    "ExecuteTime": {
     "end_time": "2023-11-29T19:31:20.403195400Z",
     "start_time": "2023-11-29T19:31:20.397724Z"
    }
   },
   "id": "f76683b33ee69691"
  },
  {
   "cell_type": "code",
   "execution_count": 369,
   "outputs": [],
   "source": [
    "from sklearn.utils import shuffle"
   ],
   "metadata": {
    "collapsed": false,
    "ExecuteTime": {
     "end_time": "2023-11-29T19:31:20.407169300Z",
     "start_time": "2023-11-29T19:31:20.403195400Z"
    }
   },
   "id": "a6611cd5b6c2a0b3"
  },
  {
   "cell_type": "code",
   "execution_count": 370,
   "outputs": [],
   "source": [
    "instances, classes = shuffle(instances, classes)"
   ],
   "metadata": {
    "collapsed": false,
    "ExecuteTime": {
     "end_time": "2023-11-29T19:31:20.412784100Z",
     "start_time": "2023-11-29T19:31:20.408166800Z"
    }
   },
   "id": "238590d3b29e208"
  },
  {
   "cell_type": "code",
   "execution_count": 371,
   "outputs": [],
   "source": [
    "v_instances, v_classes = shuffle(v_instances, v_classes)"
   ],
   "metadata": {
    "collapsed": false,
    "ExecuteTime": {
     "end_time": "2023-11-29T19:31:20.421417400Z",
     "start_time": "2023-11-29T19:31:20.412784100Z"
    }
   },
   "id": "a375d706c68521a5"
  },
  {
   "cell_type": "code",
   "execution_count": 372,
   "outputs": [],
   "source": [
    "def create_model():\n",
    "    model = Sequential()\n",
    "    model.add(Conv2D(4, kernel_size=(3, 3), activation='relu', input_shape=input_shape))\n",
    "    model.add(Conv2D(8, kernel_size=(3, 3), activation='relu'))\n",
    "    model.add(Dropout(0.3))\n",
    "    model.add(Conv2D(12, kernel_size=(3, 3), activation='relu'))\n",
    "    model.add(Flatten())\n",
    "    model.add(Dense(256, activation='relu'))\n",
    "    model.add(Dropout(0.3))\n",
    "    model.add(Dense(2, activation='softmax'))\n",
    "    return model"
   ],
   "metadata": {
    "collapsed": false,
    "ExecuteTime": {
     "end_time": "2023-11-29T19:31:20.425889800Z",
     "start_time": "2023-11-29T19:31:20.423411200Z"
    }
   },
   "id": "9cbbb0e8c4c51c10"
  },
  {
   "cell_type": "code",
   "execution_count": 373,
   "outputs": [
    {
     "data": {
      "text/plain": "<Figure size 640x480 with 1 Axes>",
      "image/png": "[encoded data removed]"
     },
     "metadata": {},
     "output_type": "display_data"
    }
   ],
   "source": [
    "for i in range(len(instances)):\n",
    "    if classes[i] == 1:\n",
    "        plt.imshow(instances[i], cmap='gray')\n",
    "        break"
   ],
   "metadata": {
    "collapsed": false,
    "ExecuteTime": {
     "end_time": "2023-11-29T19:31:20.520342700Z",
     "start_time": "2023-11-29T19:31:20.426888500Z"
    }
   },
   "id": "e61aa5412c2499f2"
  },
  {
   "cell_type": "code",
   "execution_count": 374,
   "outputs": [],
   "source": [
    "model = create_model()"
   ],
   "metadata": {
    "collapsed": false,
    "ExecuteTime": {
     "end_time": "2023-11-29T19:31:20.614449300Z",
     "start_time": "2023-11-29T19:31:20.518346600Z"
    }
   },
   "id": "d9af0d14b502b603"
  },
  {
   "cell_type": "code",
   "execution_count": 375,
   "outputs": [
    {
     "name": "stdout",
     "output_type": "stream",
     "text": [
      "Model: \"sequential_21\"\n",
      "_________________________________________________________________\n",
      " Layer (type)                Output Shape              Param #   \n",
      "=================================================================\n",
      " conv2d_56 (Conv2D)          (None, 74, 74, 4)         40        \n",
      "                                                                 \n",
      " conv2d_57 (Conv2D)          (None, 72, 72, 8)         296       \n",
      "                                                                 \n",
      " dropout_9 (Dropout)         (None, 72, 72, 8)         0         \n",
      "                                                                 \n",
      " conv2d_58 (Conv2D)          (None, 70, 70, 12)        876       \n",
      "                                                                 \n",
      " flatten_21 (Flatten)        (None, 58800)             0         \n",
      "                                                                 \n",
      " dense_35 (Dense)            (None, 256)               15053056  \n",
      "                                                                 \n",
      " dropout_10 (Dropout)        (None, 256)               0         \n",
      "                                                                 \n",
      " dense_36 (Dense)            (None, 2)                 514       \n",
      "                                                                 \n",
      "=================================================================\n",
      "Total params: 15054782 (57.43 MB)\n",
      "Trainable params: 15054782 (57.43 MB)\n",
      "Non-trainable params: 0 (0.00 Byte)\n",
      "_________________________________________________________________\n"
     ]
    }
   ],
   "source": [
    "model.summary()"
   ],
   "metadata": {
    "collapsed": false,
    "ExecuteTime": {
     "end_time": "2023-11-29T19:31:20.624300600Z",
     "start_time": "2023-11-29T19:31:20.616444400Z"
    }
   },
   "id": "59b82cbe6bd5b115"
  },
  {
   "cell_type": "code",
   "execution_count": 376,
   "outputs": [],
   "source": [
    "instances, classes = np.array(instances), np.array(classes)\n",
    "v_instances, v_classes = np.array(v_instances), np.array(v_classes)"
   ],
   "metadata": {
    "collapsed": false,
    "ExecuteTime": {
     "end_time": "2023-11-29T19:31:20.631284500Z",
     "start_time": "2023-11-29T19:31:20.628290100Z"
    }
   },
   "id": "306c1b39eb58317"
  },
  {
   "cell_type": "code",
   "execution_count": 377,
   "outputs": [],
   "source": [
    "model.compile(\n",
    "    optimizer=Adam(learning_rate=0.0001),\n",
    "    loss='sparse_categorical_crossentropy',\n",
    "    metrics=['accuracy']\n",
    ")"
   ],
   "metadata": {
    "collapsed": false,
    "ExecuteTime": {
     "end_time": "2023-11-29T19:31:20.665424Z",
     "start_time": "2023-11-29T19:31:20.630285100Z"
    }
   },
   "id": "46f3308e09ccbae9"
  },
  {
   "cell_type": "code",
   "execution_count": 378,
   "outputs": [
    {
     "name": "stdout",
     "output_type": "stream",
     "text": [
      "Epoch 1/30\n",
      "16/16 - 3s - loss: 19.1165 - accuracy: 0.5312 - val_loss: 6.6336 - val_accuracy: 0.6561 - 3s/epoch - 169ms/step\n",
      "Epoch 2/30\n",
      "16/16 - 2s - loss: 4.4766 - accuracy: 0.5473 - val_loss: 2.0773 - val_accuracy: 0.3631 - 2s/epoch - 112ms/step\n",
      "Epoch 3/30\n",
      "16/16 - 2s - loss: 1.4807 - accuracy: 0.5292 - val_loss: 0.7976 - val_accuracy: 0.3631 - 2s/epoch - 112ms/step\n",
      "Epoch 4/30\n",
      "16/16 - 2s - loss: 0.7094 - accuracy: 0.5493 - val_loss: 0.6527 - val_accuracy: 0.6688 - 2s/epoch - 112ms/step\n",
      "Epoch 5/30\n",
      "16/16 - 2s - loss: 0.6789 - accuracy: 0.5553 - val_loss: 0.6843 - val_accuracy: 0.4904 - 2s/epoch - 112ms/step\n",
      "Epoch 6/30\n",
      "16/16 - 2s - loss: 0.6709 - accuracy: 0.6117 - val_loss: 0.6770 - val_accuracy: 0.5860 - 2s/epoch - 112ms/step\n",
      "Epoch 7/30\n",
      "16/16 - 2s - loss: 0.6663 - accuracy: 0.5895 - val_loss: 0.6549 - val_accuracy: 0.6051 - 2s/epoch - 112ms/step\n",
      "Epoch 8/30\n",
      "16/16 - 2s - loss: 0.6541 - accuracy: 0.6157 - val_loss: 0.6790 - val_accuracy: 0.5796 - 2s/epoch - 111ms/step\n",
      "Epoch 9/30\n",
      "16/16 - 2s - loss: 0.6660 - accuracy: 0.5795 - val_loss: 0.6650 - val_accuracy: 0.6306 - 2s/epoch - 112ms/step\n",
      "Epoch 10/30\n",
      "16/16 - 2s - loss: 0.6531 - accuracy: 0.6479 - val_loss: 0.6426 - val_accuracy: 0.6561 - 2s/epoch - 112ms/step\n",
      "Epoch 11/30\n",
      "16/16 - 2s - loss: 0.6533 - accuracy: 0.5795 - val_loss: 0.6411 - val_accuracy: 0.6497 - 2s/epoch - 112ms/step\n",
      "Epoch 12/30\n",
      "16/16 - 2s - loss: 0.6516 - accuracy: 0.6137 - val_loss: 0.6503 - val_accuracy: 0.6497 - 2s/epoch - 112ms/step\n",
      "Epoch 13/30\n",
      "16/16 - 2s - loss: 0.6237 - accuracy: 0.6620 - val_loss: 0.6489 - val_accuracy: 0.6561 - 2s/epoch - 112ms/step\n",
      "Epoch 14/30\n",
      "16/16 - 2s - loss: 0.6199 - accuracy: 0.6419 - val_loss: 0.6524 - val_accuracy: 0.6242 - 2s/epoch - 112ms/step\n",
      "Epoch 15/30\n",
      "16/16 - 2s - loss: 0.5810 - accuracy: 0.6861 - val_loss: 0.6651 - val_accuracy: 0.5987 - 2s/epoch - 112ms/step\n",
      "Epoch 16/30\n",
      "16/16 - 2s - loss: 0.5588 - accuracy: 0.7364 - val_loss: 0.6504 - val_accuracy: 0.6561 - 2s/epoch - 112ms/step\n",
      "Epoch 17/30\n",
      "16/16 - 2s - loss: 0.5551 - accuracy: 0.7042 - val_loss: 0.6586 - val_accuracy: 0.6242 - 2s/epoch - 112ms/step\n",
      "Epoch 18/30\n",
      "16/16 - 2s - loss: 0.5532 - accuracy: 0.7203 - val_loss: 0.6773 - val_accuracy: 0.6497 - 2s/epoch - 112ms/step\n",
      "Epoch 19/30\n",
      "16/16 - 2s - loss: 0.5199 - accuracy: 0.7404 - val_loss: 0.6692 - val_accuracy: 0.5924 - 2s/epoch - 112ms/step\n",
      "Epoch 20/30\n",
      "16/16 - 2s - loss: 0.5255 - accuracy: 0.7103 - val_loss: 0.6679 - val_accuracy: 0.6624 - 2s/epoch - 112ms/step\n",
      "Epoch 21/30\n",
      "16/16 - 2s - loss: 0.5211 - accuracy: 0.7163 - val_loss: 0.6761 - val_accuracy: 0.6178 - 2s/epoch - 112ms/step\n",
      "Epoch 22/30\n",
      "16/16 - 2s - loss: 0.4540 - accuracy: 0.8068 - val_loss: 0.6919 - val_accuracy: 0.6497 - 2s/epoch - 112ms/step\n",
      "Epoch 23/30\n",
      "16/16 - 2s - loss: 0.4601 - accuracy: 0.8008 - val_loss: 0.6727 - val_accuracy: 0.6369 - 2s/epoch - 112ms/step\n",
      "Epoch 24/30\n",
      "16/16 - 2s - loss: 0.4087 - accuracy: 0.7988 - val_loss: 0.6961 - val_accuracy: 0.6178 - 2s/epoch - 112ms/step\n",
      "Epoch 25/30\n",
      "16/16 - 2s - loss: 0.4130 - accuracy: 0.8410 - val_loss: 0.6881 - val_accuracy: 0.6306 - 2s/epoch - 112ms/step\n",
      "Epoch 26/30\n",
      "16/16 - 2s - loss: 0.3805 - accuracy: 0.8390 - val_loss: 0.6880 - val_accuracy: 0.6306 - 2s/epoch - 112ms/step\n",
      "Epoch 27/30\n",
      "16/16 - 2s - loss: 0.3958 - accuracy: 0.8390 - val_loss: 0.7003 - val_accuracy: 0.6242 - 2s/epoch - 112ms/step\n",
      "Epoch 28/30\n",
      "16/16 - 2s - loss: 0.3664 - accuracy: 0.8431 - val_loss: 0.7224 - val_accuracy: 0.6242 - 2s/epoch - 112ms/step\n",
      "Epoch 29/30\n",
      "16/16 - 2s - loss: 0.3428 - accuracy: 0.8612 - val_loss: 0.7047 - val_accuracy: 0.6051 - 2s/epoch - 112ms/step\n",
      "Epoch 30/30\n",
      "16/16 - 2s - loss: 0.3512 - accuracy: 0.8531 - val_loss: 0.6809 - val_accuracy: 0.6306 - 2s/epoch - 112ms/step\n"
     ]
    },
    {
     "data": {
      "text/plain": "<keras.src.callbacks.History at 0x1f43659f910>"
     },
     "execution_count": 378,
     "metadata": {},
     "output_type": "execute_result"
    }
   ],
   "source": [
    "model.fit(\n",
    "    instances, classes,\n",
    "    validation_data=(v_instances, v_classes),\n",
    "    epochs=30,\n",
    "    verbose=2\n",
    ")"
   ],
   "metadata": {
    "collapsed": false,
    "ExecuteTime": {
     "end_time": "2023-11-29T19:32:15.361728500Z",
     "start_time": "2023-11-29T19:31:20.638472Z"
    }
   },
   "id": "36b06bfa5ee4d272"
  }
 ],
 "metadata": {
  "kernelspec": {
   "display_name": "Python 3",
   "language": "python",
   "name": "python3"
  },
  "language_info": {
   "codemirror_mode": {
    "name": "ipython",
    "version": 2
   },
   "file_extension": ".py",
   "mimetype": "text/x-python",
   "name": "python",
   "nbconvert_exporter": "python",
   "pygments_lexer": "ipython2",
   "version": "2.7.6"
  }
 },
 "nbformat": 4,
 "nbformat_minor": 5
}
