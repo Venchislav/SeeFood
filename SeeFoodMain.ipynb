{
 "cells": [
  {
   "cell_type": "code",
   "execution_count": 51,
   "metadata": {},
   "outputs": [],
   "source": [
    "import tensorflow as tf\n",
    "import numpy as np\n",
    "from tensorflow.keras.preprocessing.image import img_to_array, load_img, ImageDataGenerator"
   ]
  },
  {
   "cell_type": "code",
   "execution_count": 52,
   "metadata": {},
   "outputs": [],
   "source": [
    "# params\n",
    "\n",
    "IM_SIZE = 150\n",
    "batch_size = 32\n",
    "\n",
    "train_dir = 'train'\n",
    "test_dir = 'test'"
   ]
  },
  {
   "cell_type": "code",
   "execution_count": 53,
   "metadata": {},
   "outputs": [],
   "source": [
    "train_data_generator = ImageDataGenerator(\n",
    "    rescale=1.0 / 255,\n",
    "    rotation_range=40,\n",
    "    horizontal_flip=True,\n",
    "    zoom_range=0.2\n",
    ")\n",
    "\n",
    "test_data_generator = ImageDataGenerator(\n",
    "    rescale=1.0 / 255\n",
    ")"
   ]
  },
  {
   "cell_type": "code",
   "execution_count": 54,
   "metadata": {},
   "outputs": [
    {
     "name": "stdout",
     "output_type": "stream",
     "text": [
      "Found 4242 images belonging to 2 classes.\n"
     ]
    },
    {
     "name": "stdout",
     "output_type": "stream",
     "text": [
      "Found 400 images belonging to 2 classes.\n"
     ]
    }
   ],
   "source": [
    "train_data = train_data_generator.flow_from_directory(\n",
    "    train_dir,\n",
    "    target_size=(IM_SIZE, IM_SIZE),\n",
    "    batch_size=batch_size\n",
    ")\n",
    "\n",
    "test_data = test_data_generator.flow_from_directory(\n",
    "    test_dir,\n",
    "    target_size=(IM_SIZE, IM_SIZE)\n",
    ")"
   ]
  },
  {
   "cell_type": "code",
   "execution_count": 55,
   "metadata": {},
   "outputs": [],
   "source": [
    "from tensorflow.keras.models import Sequential\n",
    "from tensorflow.keras.layers import Dense, Flatten, Conv2D, MaxPool2D\n",
    "from tensorflow.keras.optimizers import Adam\n",
    "from tensorflow.keras.losses import BinaryCrossentropy, SparseCategoricalCrossentropy, CategoricalCrossentropy"
   ]
  },
  {
   "cell_type": "code",
   "execution_count": 56,
   "metadata": {},
   "outputs": [],
   "source": [
    "import random"
   ]
  },
  {
   "cell_type": "code",
   "execution_count": 57,
   "metadata": {},
   "outputs": [],
   "source": [
    "random.seed(0)\n",
    "model = Sequential()\n",
    "model.add(Conv2D(128, (3, 3), activation='relu', input_shape=(IM_SIZE, IM_SIZE, 3)))\n",
    "model.add(MaxPool2D((2, 2)))\n",
    "model.add(Conv2D(64, (3, 3), activation='relu', kernel_regularizer=tf.keras.regularizers.l2(l=0.01)))\n",
    "model.add(MaxPool2D((2, 2)))\n",
    "model.add(Conv2D(32, (3, 3), activation='relu', kernel_regularizer=tf.keras.regularizers.l2(l=0.01)))\n",
    "model.add(Flatten())\n",
    "model.add(Dense(128, activation='relu'))\n",
    "model.add(Dense(2, activation='sigmoid'))"
   ]
  },
  {
   "cell_type": "code",
   "execution_count": 58,
   "metadata": {},
   "outputs": [
    {
     "data": {
      "text/plain": [
       "\"model = Sequential([\\n    Conv2D(filters=16, activation='relu', kernel_size=(2, 2), input_shape=(IM_SIZE, IM_SIZE, 3)),\\n    Conv2D(filters=16, activation='relu', kernel_size=(2, 2)),\\n    MaxPool2D(pool_size=(2, 2)),\\n\\n    Conv2D(filters=32, activation='relu', kernel_size=(2, 2)),\\n    Conv2D(filters=32, activation='relu', kernel_size=(2, 2)),\\n    MaxPool2D(pool_size=(2, 2)),\\n\\n    Conv2D(filters=64, activation='relu', kernel_size=(2, 2)),\\n    Conv2D(filters=64, activation='relu', kernel_size=(2, 2)),\\n    Conv2D(filters=64, activation='relu', kernel_size=(2, 2)),\\n    MaxPool2D(pool_size=(2, 2)),\\n\\n    Conv2D(filters=128, activation='relu', kernel_size=(2, 2)),\\n    Conv2D(filters=128, activation='relu', kernel_size=(2, 2)),\\n    Conv2D(filters=128, activation='relu', kernel_size=(2, 2)),\\n    MaxPool2D(pool_size=(2, 2)),\\n\\n    Flatten(),\\n\\n    Dense(512, activation='relu'),\\n    Dense(128, activation='relu'),\\n    Dense(2, activation='sigmoid'),\\n\\n])\""
      ]
     },
     "execution_count": 58,
     "metadata": {},
     "output_type": "execute_result"
    }
   ],
   "source": [
    "\"\"\"model = Sequential([\n",
    "    Conv2D(filters=16, activation='relu', kernel_size=(2, 2), input_shape=(IM_SIZE, IM_SIZE, 3)),\n",
    "    Conv2D(filters=16, activation='relu', kernel_size=(2, 2)),\n",
    "    MaxPool2D(pool_size=(2, 2)),\n",
    "\n",
    "    Conv2D(filters=32, activation='relu', kernel_size=(2, 2)),\n",
    "    Conv2D(filters=32, activation='relu', kernel_size=(2, 2)),\n",
    "    MaxPool2D(pool_size=(2, 2)),\n",
    "\n",
    "    Conv2D(filters=64, activation='relu', kernel_size=(2, 2)),\n",
    "    Conv2D(filters=64, activation='relu', kernel_size=(2, 2)),\n",
    "    Conv2D(filters=64, activation='relu', kernel_size=(2, 2)),\n",
    "    MaxPool2D(pool_size=(2, 2)),\n",
    "\n",
    "    Conv2D(filters=128, activation='relu', kernel_size=(2, 2)),\n",
    "    Conv2D(filters=128, activation='relu', kernel_size=(2, 2)),\n",
    "    Conv2D(filters=128, activation='relu', kernel_size=(2, 2)),\n",
    "    MaxPool2D(pool_size=(2, 2)),\n",
    "\n",
    "    Flatten(),\n",
    "\n",
    "    Dense(512, activation='relu'),\n",
    "    Dense(128, activation='relu'),\n",
    "    Dense(2, activation='sigmoid'),\n",
    "\n",
    "])\"\"\""
   ]
  },
  {
   "cell_type": "code",
   "execution_count": 59,
   "metadata": {},
   "outputs": [
    {
     "name": "stdout",
     "output_type": "stream",
     "text": [
      "Model: \"sequential_4\"\n",
      "_________________________________________________________________\n",
      " Layer (type)                Output Shape              Param #   \n",
      "=================================================================\n",
      " conv2d_19 (Conv2D)          (None, 148, 148, 128)     3584      \n",
      "                                                                 \n",
      " max_pooling2d_10 (MaxPooli  (None, 74, 74, 128)       0         \n",
      " ng2D)                                                           \n",
      "                                                                 \n",
      " conv2d_20 (Conv2D)          (None, 72, 72, 64)        73792     \n",
      "                                                                 \n",
      " max_pooling2d_11 (MaxPooli  (None, 36, 36, 64)        0         \n",
      " ng2D)                                                           \n",
      "                                                                 \n",
      " conv2d_21 (Conv2D)          (None, 34, 34, 32)        18464     \n",
      "                                                                 \n",
      " flatten_4 (Flatten)         (None, 36992)             0         \n",
      "                                                                 \n",
      " dense_9 (Dense)             (None, 128)               4735104   \n",
      "                                                                 \n",
      " dense_10 (Dense)            (None, 2)                 258       \n",
      "                                                                 \n",
      "=================================================================\n",
      "Total params: 4831202 (18.43 MB)\n",
      "Trainable params: 4831202 (18.43 MB)\n",
      "Non-trainable params: 0 (0.00 Byte)\n",
      "_________________________________________________________________\n"
     ]
    }
   ],
   "source": [
    "model.summary()"
   ]
  },
  {
   "cell_type": "code",
   "execution_count": 60,
   "metadata": {},
   "outputs": [],
   "source": [
    "model.compile(\n",
    "    optimizer=Adam(),\n",
    "    loss=BinaryCrossentropy(),\n",
    "    metrics='accuracy'\n",
    ")"
   ]
  },
  {
   "cell_type": "code",
   "execution_count": 64,
   "metadata": {},
   "outputs": [
    {
     "name": "stdout",
     "output_type": "stream",
     "text": [
      "Epoch 1/20\n",
      "133/133 - 51s - loss: 0.6107 - accuracy: 0.6634 - 51s/epoch - 386ms/step\n",
      "Epoch 2/20\n",
      "133/133 - 51s - loss: 0.6123 - accuracy: 0.6561 - 51s/epoch - 383ms/step\n",
      "Epoch 3/20\n",
      "133/133 - 51s - loss: 0.6109 - accuracy: 0.6638 - 51s/epoch - 385ms/step\n",
      "Epoch 4/20\n",
      "133/133 - 51s - loss: 0.6135 - accuracy: 0.6629 - 51s/epoch - 387ms/step\n",
      "Epoch 5/20\n",
      "133/133 - 51s - loss: 0.6034 - accuracy: 0.6749 - 51s/epoch - 386ms/step\n",
      "Epoch 6/20\n",
      "133/133 - 53s - loss: 0.6080 - accuracy: 0.6648 - 53s/epoch - 398ms/step\n",
      "Epoch 7/20\n",
      "133/133 - 51s - loss: 0.6052 - accuracy: 0.6697 - 51s/epoch - 387ms/step\n",
      "Epoch 8/20\n",
      "133/133 - 51s - loss: 0.6046 - accuracy: 0.6671 - 51s/epoch - 385ms/step\n",
      "Epoch 9/20\n",
      "133/133 - 51s - loss: 0.6070 - accuracy: 0.6726 - 51s/epoch - 385ms/step\n",
      "Epoch 10/20\n",
      "133/133 - 51s - loss: 0.6062 - accuracy: 0.6702 - 51s/epoch - 385ms/step\n",
      "Epoch 11/20\n",
      "133/133 - 51s - loss: 0.6014 - accuracy: 0.6780 - 51s/epoch - 385ms/step\n",
      "Epoch 12/20\n",
      "133/133 - 51s - loss: 0.6024 - accuracy: 0.6756 - 51s/epoch - 385ms/step\n",
      "Epoch 13/20\n",
      "133/133 - 51s - loss: 0.6006 - accuracy: 0.6782 - 51s/epoch - 386ms/step\n",
      "Epoch 14/20\n",
      "133/133 - 51s - loss: 0.6000 - accuracy: 0.6808 - 51s/epoch - 384ms/step\n",
      "Epoch 15/20\n",
      "133/133 - 51s - loss: 0.6003 - accuracy: 0.6806 - 51s/epoch - 385ms/step\n",
      "Epoch 16/20\n",
      "133/133 - 51s - loss: 0.6000 - accuracy: 0.6716 - 51s/epoch - 385ms/step\n",
      "Epoch 17/20\n",
      "133/133 - 51s - loss: 0.5965 - accuracy: 0.6777 - 51s/epoch - 385ms/step\n",
      "Epoch 18/20\n",
      "133/133 - 51s - loss: 0.5971 - accuracy: 0.6761 - 51s/epoch - 384ms/step\n",
      "Epoch 19/20\n",
      "133/133 - 52s - loss: 0.5927 - accuracy: 0.6858 - 52s/epoch - 388ms/step\n",
      "Epoch 20/20\n",
      "133/133 - 52s - loss: 0.5981 - accuracy: 0.6770 - 52s/epoch - 388ms/step\n"
     ]
    },
    {
     "data": {
      "text/plain": [
       "<keras.src.callbacks.History at 0x200d791d990>"
      ]
     },
     "execution_count": 64,
     "metadata": {},
     "output_type": "execute_result"
    }
   ],
   "source": [
    "model.fit(\n",
    "    train_data,\n",
    "    epochs=20,\n",
    "    verbose=2\n",
    ")"
   ]
  },
  {
   "cell_type": "code",
   "execution_count": 65,
   "metadata": {},
   "outputs": [
    {
     "name": "stdout",
     "output_type": "stream",
     "text": [
      "13/13 [==============================] - 1s 104ms/step - loss: 0.7149 - accuracy: 0.5600\n"
     ]
    },
    {
     "data": {
      "text/plain": [
       "[0.7148718237876892, 0.5600000023841858]"
      ]
     },
     "execution_count": 65,
     "metadata": {},
     "output_type": "execute_result"
    }
   ],
   "source": [
    "model.evaluate(test_data)"
   ]
  }
 ],
 "metadata": {
  "kernelspec": {
   "display_name": "Python 3",
   "language": "python",
   "name": "python3"
  },
  "language_info": {
   "codemirror_mode": {
    "name": "ipython",
    "version": 3
   },
   "file_extension": ".py",
   "mimetype": "text/x-python",
   "name": "python",
   "nbconvert_exporter": "python",
   "pygments_lexer": "ipython3",
   "version": "3.11.4"
  }
 },
 "nbformat": 4,
 "nbformat_minor": 2
}
